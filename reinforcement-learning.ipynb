{
 "cells": [
  {
   "cell_type": "code",
   "execution_count": 1,
   "metadata": {},
   "outputs": [],
   "source": [
    "import numpy as np\n",
    "\n",
    "# R Matrix\n",
    "R = np.matrix([[-1, -1, -1, -1, 0, -1],\n",
    "                [-1, -1, -1, 0, -1, 100],\n",
    "                [-1, -1, -1, 0, -1, -1],\n",
    "                [-1, 0, 0, -1, 0, -1],\n",
    "                [-1, 0, 0, -1, -1, 100],\n",
    "                [-1, 0, -1, -1, 0, 100]])\n",
    "\n",
    "# Q Matrix\n",
    "Q = np.matrix(np.zeros([6, 6]))\n",
    "\n",
    "# Gamma (Learning Parameter)\n",
    "gamma = 0.8\n",
    "\n",
    "# Initial State (Usually to be chosen at random).\n",
    "initial_state = 1"
   ]
  },
  {
   "cell_type": "code",
   "execution_count": 2,
   "metadata": {},
   "outputs": [],
   "source": [
    "# This function returns all available actions in the state given as an argument.\n",
    "def available_actions(state):\n",
    "    current_state_row = R[state, ]\n",
    "    av_act = np.where(current_state_row >= 0) [1]\n",
    "    return av_act\n",
    "\n",
    "# Get all available actions in the current state\n",
    "available_act = available_actions(initial_state)"
   ]
  },
  {
   "cell_type": "code",
   "execution_count": 3,
   "metadata": {},
   "outputs": [
    {
     "name": "stderr",
     "output_type": "stream",
     "text": [
      "C:\\Users\\HP\\AppData\\Local\\Temp\\ipykernel_1500\\3802096018.py:4: DeprecationWarning: Conversion of an array with ndim > 0 to a scalar is deprecated, and will error in future. Ensure you extract a single element from your array before performing this operation. (Deprecated NumPy 1.25.)\n",
      "  next_action = int(np.random.choice(available_act, 1))\n"
     ]
    }
   ],
   "source": [
    "# This function chooses at random which action is to be performed within the range\n",
    "# of all available actions\n",
    "def sample_next_action(available_actions_range):\n",
    "    next_action = int(np.random.choice(available_act, 1))\n",
    "    return next_action\n",
    "\n",
    "# Sample next action to be performed\n",
    "action = sample_next_action(available_act)"
   ]
  },
  {
   "cell_type": "code",
   "execution_count": 6,
   "metadata": {},
   "outputs": [
    {
     "name": "stderr",
     "output_type": "stream",
     "text": [
      "C:\\Users\\HP\\AppData\\Local\\Temp\\ipykernel_1500\\1311893471.py:7: DeprecationWarning: Conversion of an array with ndim > 0 to a scalar is deprecated, and will error in future. Ensure you extract a single element from your array before performing this operation. (Deprecated NumPy 1.25.)\n",
      "  max_index = int(np.random.choice(max_index, size=1))\n"
     ]
    }
   ],
   "source": [
    "# This function updates the Q matrix according to the path selected and the \n",
    "# Q learning algorithm\n",
    "def update(current_state, action, gamma):\n",
    "    max_index = np.where(Q[action, ] == np.max(Q[action, ])) [1]\n",
    "\n",
    "    if max_index.shape[0] > 1:\n",
    "        max_index = int(np.random.choice(max_index, size=1))\n",
    "    else: \n",
    "        max_index = int(max_index)\n",
    "    max_value = Q[action, max_index]\n",
    "\n",
    "    # Q learning fomula\n",
    "    Q[current_state, action] = R[current_state, action] + gamma * max_value\n",
    "\n",
    "# Update Q matrix\n",
    "update(initial_state, action, gamma)"
   ]
  },
  {
   "cell_type": "code",
   "execution_count": 7,
   "metadata": {},
   "outputs": [
    {
     "name": "stderr",
     "output_type": "stream",
     "text": [
      "C:\\Users\\HP\\AppData\\Local\\Temp\\ipykernel_1500\\3802096018.py:4: DeprecationWarning: Conversion of an array with ndim > 0 to a scalar is deprecated, and will error in future. Ensure you extract a single element from your array before performing this operation. (Deprecated NumPy 1.25.)\n",
      "  next_action = int(np.random.choice(available_act, 1))\n",
      "C:\\Users\\HP\\AppData\\Local\\Temp\\ipykernel_1500\\1311893471.py:7: DeprecationWarning: Conversion of an array with ndim > 0 to a scalar is deprecated, and will error in future. Ensure you extract a single element from your array before performing this operation. (Deprecated NumPy 1.25.)\n",
      "  max_index = int(np.random.choice(max_index, size=1))\n",
      "C:\\Users\\HP\\AppData\\Local\\Temp\\ipykernel_1500\\1311893471.py:9: DeprecationWarning: Conversion of an array with ndim > 0 to a scalar is deprecated, and will error in future. Ensure you extract a single element from your array before performing this operation. (Deprecated NumPy 1.25.)\n",
      "  max_index = int(max_index)\n"
     ]
    },
    {
     "name": "stdout",
     "output_type": "stream",
     "text": [
      "Trained Q Matrix:\n",
      "[[  0.    0.    0.    0.   80.    0. ]\n",
      " [  0.    0.    0.   64.    0.  100. ]\n",
      " [  0.    0.    0.   64.    0.    0. ]\n",
      " [  0.   80.   51.2   0.   80.    0. ]\n",
      " [  0.   80.   51.2   0.    0.  100. ]\n",
      " [  0.   80.    0.    0.   80.  100. ]]\n"
     ]
    }
   ],
   "source": [
    "# -------------------------------------------------------------------------------------------\n",
    "# Training\n",
    "\n",
    "\n",
    "# Train over 10 000 iterations. (Re-iterate the process above)\n",
    "for i in range(10000):\n",
    "    current_state = np.random.randint(0, int(Q.shape[0]))\n",
    "    available_act = available_actions(current_state)\n",
    "    action = sample_next_action(available_act)\n",
    "    update(current_state, action, gamma)\n",
    "\n",
    "# Normalize the \"trained\" Q matrix\n",
    "print(\"Trained Q Matrix:\")\n",
    "print(Q / np.max(Q) * 100)"
   ]
  },
  {
   "cell_type": "code",
   "execution_count": 9,
   "metadata": {},
   "outputs": [
    {
     "name": "stdout",
     "output_type": "stream",
     "text": [
      "Selected Path:\n",
      "[2, 3, 4, 5]\n"
     ]
    },
    {
     "name": "stderr",
     "output_type": "stream",
     "text": [
      "C:\\Users\\HP\\AppData\\Local\\Temp\\ipykernel_1500\\4064850624.py:16: DeprecationWarning: Conversion of an array with ndim > 0 to a scalar is deprecated, and will error in future. Ensure you extract a single element from your array before performing this operation. (Deprecated NumPy 1.25.)\n",
      "  next_step_index = int(next_step_index)\n",
      "C:\\Users\\HP\\AppData\\Local\\Temp\\ipykernel_1500\\4064850624.py:14: DeprecationWarning: Conversion of an array with ndim > 0 to a scalar is deprecated, and will error in future. Ensure you extract a single element from your array before performing this operation. (Deprecated NumPy 1.25.)\n",
      "  next_step_index = int(np.random.choice(next_step_index, size=1))\n"
     ]
    }
   ],
   "source": [
    "# --------------------------------------------------------------------------------------------------\n",
    "# Testing\n",
    "\n",
    "# Goal State = 5\n",
    "# Best sequence path starting from 2 -> 2, 3, 1, 5\n",
    "\n",
    "current_state = 2\n",
    "steps = [current_state]\n",
    "\n",
    "while current_state != 5:\n",
    "    next_step_index = np.where(Q[current_state, ] == np.max(Q[current_state])) [1]\n",
    "\n",
    "    if next_step_index.shape[0] > 1:\n",
    "        next_step_index = int(np.random.choice(next_step_index, size=1))\n",
    "    else:\n",
    "        next_step_index = int(next_step_index)\n",
    "\n",
    "    steps.append(next_step_index)\n",
    "    current_state = next_step_index\n",
    "\n",
    "# Print selected sequence of steps\n",
    "print(\"Selected Path:\")\n",
    "print(steps)"
   ]
  }
 ],
 "metadata": {
  "kernelspec": {
   "display_name": "Python 3",
   "language": "python",
   "name": "python3"
  },
  "language_info": {
   "codemirror_mode": {
    "name": "ipython",
    "version": 3
   },
   "file_extension": ".py",
   "mimetype": "text/x-python",
   "name": "python",
   "nbconvert_exporter": "python",
   "pygments_lexer": "ipython3",
   "version": "3.12.1"
  }
 },
 "nbformat": 4,
 "nbformat_minor": 2
}
